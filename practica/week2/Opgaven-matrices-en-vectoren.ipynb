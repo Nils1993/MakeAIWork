{
 "cells": [
  {
   "cell_type": "markdown",
   "id": "2ea724be",
   "metadata": {},
   "source": [
    "# Matrices en vectoren"
   ]
  },
  {
   "cell_type": "markdown",
   "id": "18595eca",
   "metadata": {},
   "source": [
    "Er zijn meerdere manieren om een matrix te representeren.\n",
    "\n",
    "Hier kiezen we voor het volgende datamodel:\n",
    "\n",
    "`matrix_2D :: {rows: int, cols: int, data: []}`\n",
    "\n",
    "Implementeer onderstaande opdrachten in Python."
   ]
  },
  {
   "cell_type": "markdown",
   "id": "42182308",
   "metadata": {},
   "source": [
    "## Vectoren"
   ]
  },
  {
   "cell_type": "markdown",
   "id": "db43ccb1",
   "metadata": {},
   "source": [
    "### 1. Een vector als rij*"
   ]
  },
  {
   "cell_type": "markdown",
   "id": "e9ac731a",
   "metadata": {},
   "source": [
    "Representeer de onderstaande vector in code:\n",
    "\n",
    "$$\n",
    "  \\begin{pmatrix}\n",
    "    1 & 2 & 3\n",
    "  \\end{pmatrix}\n",
    "$$"
   ]
  },
  {
   "cell_type": "code",
   "execution_count": 22,
   "id": "72c55633",
   "metadata": {
    "tags": []
   },
   "outputs": [
    {
     "name": "stdout",
     "output_type": "stream",
     "text": [
      "1\n",
      "3\n",
      "The dimensions of this vector are 1 row by 3 colums.\n",
      "[1, 2, 3]\n",
      "the amount of elements in this vector is 3\n"
     ]
    }
   ],
   "source": [
    "# How many rows and colums does this vector have?\n",
    "\n",
    "# 1 row, 3 colums\n",
    "\n",
    "# Use the definition at the top to implement this vector:\n",
    "\n",
    "vec = {'rows': 1, 'cols': 3, 'data': [1,2,3]}\n",
    "\n",
    "# Can you print its dimensions? (rows, cols)\n",
    "print(vec['rows'])\n",
    "print(vec['cols'])\n",
    "print(f\"The dimensions of this vector are {vec['rows']} row by {vec['cols']} colums.\")\n",
    "\n",
    "# Can you print the number of elements?\n",
    "print(vec['data'])\n",
    "print(f\"the amount of elements in this vector is {len(vec['data'])}\")"
   ]
  },
  {
   "cell_type": "markdown",
   "id": "0abbc0ad",
   "metadata": {},
   "source": [
    "### 2. Een vector als kolom*"
   ]
  },
  {
   "cell_type": "markdown",
   "id": "ac4f647f",
   "metadata": {},
   "source": [
    "Representeer de onderstaande vector in code:\n",
    "\n",
    "$$\n",
    "  \\begin{pmatrix}\n",
    "    1 \\\\\n",
    "    2 \\\\\n",
    "    3\n",
    "  \\end{pmatrix}\n",
    "$$"
   ]
  },
  {
   "cell_type": "code",
   "execution_count": 28,
   "id": "f4f6bfc9",
   "metadata": {
    "tags": []
   },
   "outputs": [
    {
     "name": "stdout",
     "output_type": "stream",
     "text": [
      "3\n",
      "1\n",
      "[1, 2, 3]\n",
      "3\n"
     ]
    }
   ],
   "source": [
    "# How many rows and colums does this vector have?\n",
    "\n",
    "# 3 rows, 1 colum\n",
    "\n",
    "# Use the definition at the top to implement this vector:\n",
    "\n",
    "vec = {'rows': 3, 'cols': 1, 'data': [1,2,3]}\n",
    "\n",
    "# Can you print its dimensions? (rows, cols)\n",
    "\n",
    "print(vec['rows'])\n",
    "print(vec['cols'])\n",
    "\n",
    "# Can you print the number of elements?\n",
    "\n",
    "print(vec['data'])\n",
    "print(len(vec['data']))"
   ]
  },
  {
   "cell_type": "markdown",
   "id": "8de02084",
   "metadata": {},
   "source": [
    "### 3. Vectoren optellen**"
   ]
  },
  {
   "cell_type": "markdown",
   "id": "c2edbb39",
   "metadata": {},
   "source": [
    "Tel de onderstaande vectoren bij elkaar op:\n",
    "\n",
    "$$\n",
    "  \\begin{pmatrix}\n",
    "    1 \\\\\n",
    "    2 \\\\\n",
    "    3\n",
    "  \\end{pmatrix}\n",
    "  +\n",
    "    \\begin{pmatrix}\n",
    "    9 \\\\\n",
    "    8 \\\\\n",
    "    7\n",
    "  \\end{pmatrix}\n",
    "  =\n",
    "  ...\n",
    "$$"
   ]
  },
  {
   "cell_type": "code",
   "execution_count": 46,
   "id": "9fd6bc2a",
   "metadata": {
    "tags": []
   },
   "outputs": [
    {
     "name": "stdout",
     "output_type": "stream",
     "text": [
      "True\n",
      "True\n",
      "{'rows': 3, 'cols': 1, 'data': [10, 10, 10]}\n"
     ]
    }
   ],
   "source": [
    "# Implement both vectors:\n",
    "\n",
    "vec1 = {'rows': 3, 'cols': 1, 'data': [1,2,3]}\n",
    "vec2 = {'rows': 3, 'cols': 1, 'data': [9,8,7]}\n",
    "\n",
    "# Can we add them? Check if dimensions are the same:\n",
    "\n",
    "print(vec1['rows'] == vec2['rows'])\n",
    "print(vec1['cols'] == vec2['cols'])\n",
    "\n",
    "# How do you add these vectors by hand?\n",
    "\n",
    "# 1 + 9 = 10\n",
    "# 2 + 8 = 10\n",
    "# 3 + 7 = 10\n",
    "\n",
    "# Now add the vectors in code:\n",
    "\n",
    "# vec1['data'][0] + vec2['data'][0]\n",
    "# vec1['data'][1] + vec2['data'][1]\n",
    "# vec1['data'][2] + vec2['data'][2]\n",
    "\n",
    "answer_vec = {'rows': 3, 'cols': 1, 'data': []}\n",
    "\n",
    "answer_vec['data'].append(vec1['data'][0] + vec2['data'][0])\n",
    "answer_vec['data'].append(vec1['data'][1] + vec2['data'][1])\n",
    "answer_vec['data'].append(vec1['data'][2] + vec2['data'][2])\n",
    "print(answer_vec)\n"
   ]
  },
  {
   "cell_type": "markdown",
   "id": "10e3be49",
   "metadata": {},
   "source": [
    "Tel de onderstaande vectoren bij elkaar op:\n",
    "\n",
    "$$\n",
    "  \\begin{pmatrix}\n",
    "    1 & 2 & 3\n",
    "  \\end{pmatrix}\n",
    "  +\n",
    "  \\begin{pmatrix}\n",
    "    9 & 8 & 7\n",
    "  \\end{pmatrix}\n",
    "  =\n",
    "  ...\n",
    "$$"
   ]
  },
  {
   "cell_type": "code",
   "execution_count": 67,
   "id": "3319db0c",
   "metadata": {
    "tags": []
   },
   "outputs": [
    {
     "name": "stdout",
     "output_type": "stream",
     "text": [
      "True\n",
      "True\n",
      "{'rows': 1, 'cols': 3, 'data': [10, 10, 10]}\n"
     ]
    }
   ],
   "source": [
    "# Implement both vectors:\n",
    "\n",
    "vec1 = {'rows': 1, 'cols': 3, 'data': [1,2,3]}\n",
    "vec2 = {'rows': 1, 'cols': 3, 'data': [9,8,7]}\n",
    "\n",
    "# Can we add them? Check if dimensions are the same:\n",
    "\n",
    "print(vec1['rows'] == vec2['rows'])\n",
    "print(vec1['cols'] == vec2['cols'])\n",
    "\n",
    "# How do you add these vectors by hand?\n",
    "\n",
    "# 1 + 9 = 10\n",
    "# 2 + 8 = 10\n",
    "# 3 + 7 = 10\n",
    "\n",
    "# Now add the vectors in code:\n",
    "vec3 = {'rows': 1, 'cols': 3, 'data': []}\n",
    "\n",
    "for i in range(0,3):\n",
    "    vec3['data'].append(vec1['data'][i] + vec2['data'][i])\n",
    "   \n",
    "print(vec3)\n",
    "\n",
    "    \n",
    "    \n",
    "    "
   ]
  },
  {
   "cell_type": "markdown",
   "id": "ecf7d53a",
   "metadata": {},
   "source": [
    "## Matrices"
   ]
  },
  {
   "cell_type": "markdown",
   "id": "aea58d0c",
   "metadata": {},
   "source": [
    "### 1. Een 3 x 3 matrix*"
   ]
  },
  {
   "cell_type": "markdown",
   "id": "8ecdf748",
   "metadata": {},
   "source": [
    "Representeer de onderstaande matrix in code:\n",
    "\n",
    "$$\n",
    "  \\begin{pmatrix}\n",
    "    1 & 2 & 3\\\\\n",
    "    4 & 5 & 6\\\\\n",
    "    7 & 8 & 9\\\\\n",
    "  \\end{pmatrix}\n",
    "$$"
   ]
  },
  {
   "cell_type": "code",
   "execution_count": 69,
   "id": "744a8d77",
   "metadata": {
    "tags": []
   },
   "outputs": [
    {
     "name": "stdout",
     "output_type": "stream",
     "text": [
      "3 3\n",
      "9\n"
     ]
    }
   ],
   "source": [
    "# How many rows and colums does this matrix have?\n",
    "\n",
    "# 3rows, 3 colums\n",
    "\n",
    "# Use the definition at the top to implement this matrix:\n",
    "\n",
    "matrix_2D = {'rows': 3, 'cols': 3, 'data': [1,2,3,4,5,6,7,8,9]}\n",
    "\n",
    "# Can you print its dimensions? (rows, cols)\n",
    "\n",
    "print(matrix_2D['rows'], matrix_2D['cols'])\n",
    "\n",
    "# Can you print the number of elements?\n",
    "\n",
    "print(len(matrix_2D['data']))"
   ]
  },
  {
   "cell_type": "markdown",
   "id": "78d195fb",
   "metadata": {},
   "source": [
    "### 2. Matrices optellen**"
   ]
  },
  {
   "cell_type": "markdown",
   "id": "1554b6d8",
   "metadata": {},
   "source": [
    "Tel de onderstaande matrices op:\n",
    "\n",
    "$$\n",
    "  \\begin{pmatrix}\n",
    "    1 & 2 & 3\\\\\n",
    "    4 & 5 & 6\\\\\n",
    "    7 & 8 & 9\\\\\n",
    "  \\end{pmatrix}\n",
    "  +\n",
    "    \\begin{pmatrix}\n",
    "    9 & 8 & 7\\\\\n",
    "    6 & 5 & 4\\\\\n",
    "    3 & 2 & 1\\\\\n",
    "  \\end{pmatrix}\n",
    "  =\n",
    "  ...\n",
    "$$"
   ]
  },
  {
   "cell_type": "code",
   "execution_count": 76,
   "id": "ac6bd48c",
   "metadata": {
    "tags": []
   },
   "outputs": [
    {
     "name": "stdout",
     "output_type": "stream",
     "text": [
      "True\n",
      "True\n",
      "{'rows': 3, 'cols': 3, 'data': [10, 10, 10, 10, 10, 10, 10, 10, 10]}\n"
     ]
    }
   ],
   "source": [
    "# Implement both matrices:\n",
    "\n",
    "mat1 = {'rows': 3, 'cols': 3, 'data': [1,2,3,4,5,6,7,8,9]}\n",
    "mat2 = {'rows': 3, 'cols': 3, 'data': [9,8,7,6,5,4,3,2,1]}\n",
    "\n",
    "# Can we add them? Check if dimensions are the same:\n",
    "\n",
    "print(mat1['rows'] == mat2['rows'])\n",
    "print(mat2['cols'] == mat1['cols'])\n",
    "\n",
    "# How do you add these matrices by hand?\n",
    "\n",
    "# 1+9 2+8 3+7\n",
    "# 4+6 5+5 6+4\n",
    "# 7+3 8+2 9+1\n",
    "\n",
    "# Now add the matrices in code:\n",
    "\n",
    "# mat3 = {'rows': 3, 'cols': 3, 'data': []}\n",
    "\n",
    "# for i in range(0,9):\n",
    "#     mat3['data'].append(mat1['data'][i] + mat2['data'][i])\n",
    "    \n",
    "# print(mat3)\n",
    "\n",
    "# In case you didn't: can you generalize this algorithm?\n",
    "\n",
    "\n",
    "mat3 = {'rows': 3, 'cols': 3, 'data': []}\n",
    "\n",
    "for i in range(mat1['cols'] * mat1['rows']):\n",
    "    mat3['data'].append(mat1['data'][i] + mat2['data'][i])\n",
    "    \n",
    "print(mat3)\n"
   ]
  },
  {
   "cell_type": "markdown",
   "id": "7bff9837",
   "metadata": {},
   "source": [
    "### 3. Matrices vermenigvuldigen***"
   ]
  },
  {
   "cell_type": "markdown",
   "id": "4dba734d",
   "metadata": {},
   "source": [
    "Vermenigvuldig de onderstaande matrices:\n",
    "\n",
    "$$\n",
    "  \\begin{pmatrix}\n",
    "    1 & 2 & 3\\\\\n",
    "    4 & 5 & 6\n",
    "  \\end{pmatrix}\n",
    "  *\n",
    "    \\begin{pmatrix}\n",
    "    9 & 8\\\\\n",
    "    6 & 5\\\\\n",
    "    3 & 2\\\\\n",
    "  \\end{pmatrix}\n",
    "  =\n",
    "  ...\n",
    "$$"
   ]
  },
  {
   "cell_type": "code",
   "execution_count": 1,
   "id": "9895aaab",
   "metadata": {
    "tags": []
   },
   "outputs": [
    {
     "name": "stdout",
     "output_type": "stream",
     "text": [
      "True\n",
      "[9, 12, 9]\n",
      "[8, 10, 6]\n",
      "[36, 30, 18]\n",
      "[32, 25, 12]\n",
      "{'rows': 2, 'cols': 2, 'data': [30, 24, 84, 69]}\n"
     ]
    }
   ],
   "source": [
    "# Implement both matrices:\n",
    "\n",
    "mat1 = {'rows': 2, 'cols': 3, 'data': [1,2,3,4,5,6]}\n",
    "mat2 = {'rows': 3, 'cols': 2, 'data': [9,8,6,5,3,2]}\n",
    "\n",
    "# Can we multiply them? Check if dimensions satisfy the (M by N) * (N by K) = (M by K) rule:\n",
    "\n",
    "print(mat1['cols'] == mat2['rows'])\n",
    "\n",
    "# How do you multiply these matrices by hand?\n",
    "\n",
    "# 1*9 + 2*6 + 3*3\n",
    "# 1*8 + 2*5 + 3*2\n",
    "# 4*9 + 5*6 + 6*3\n",
    "# 4*8 + 5*5 + 6*2\n",
    "\n",
    "# m1[0]*m2[0] + m1[1]*m2[2] + m1[2]*m2[4]    m1[0]*m2[1] + m1[1]*m2[3] + m1[2]*m2[5]\n",
    "\n",
    "# m1[3]*m2[0] + m1[4]*m2[2] + m1[5]*m2[4]    m1[3]*m2[1] + m1[4]*m2[3] + m1[5]*m2[5]\n",
    "\n",
    "# since ther is 4 answers i know the answer consists of 4 elements. (2 colums, 2 rows)\n",
    "\n",
    "# Now multiply the matrices in code:\n",
    "\n",
    "# in the second matrix i need to skip 1 element exept the first one in order to stay in the right colum\n",
    "\n",
    "mat3 = {'rows': 2, 'cols': 2, 'data': []}\n",
    "counter1 = []\n",
    "counter2 = []\n",
    "counter3 = []\n",
    "counter4 = []\n",
    "\n",
    "for i in range(mat1['cols']):\n",
    "    counter1.append(mat1['data'][i]*mat2['data'][i*2])\n",
    "    counter2.append(mat1['data'][i]*mat2['data'][i*2+1])\n",
    "    counter3.append(mat1['data'][i+mat1['cols']]*mat2['data'][i*2])\n",
    "    counter4.append(mat1['data'][i+mat1['cols']]*mat2['data'][i*2+1])\n",
    "    \n",
    "mat3['data'].append(counter1[0] + counter1[1] + counter1[2])\n",
    "mat3['data'].append(counter2[0] + counter2[1] + counter2[2])\n",
    "mat3['data'].append(counter3[0] + counter3[1] + counter3[2])\n",
    "mat3['data'].append(counter4[0] + counter4[1] + counter4[2])\n",
    "    \n",
    "    \n",
    "        \n",
    "        \n",
    "print(counter1)\n",
    "print(counter2)\n",
    "print(counter3)\n",
    "print(counter4)\n",
    "\n",
    "print(mat3)\n",
    "    \n",
    "# In case you didn't: can you generalize this algorithm?\n",
    "\n",
    "# ..."
   ]
  },
  {
   "cell_type": "code",
   "execution_count": null,
   "id": "1c60bfa6-608a-46f9-add9-9e2bf61b3437",
   "metadata": {},
   "outputs": [],
   "source": []
  }
 ],
 "metadata": {
  "kernelspec": {
   "display_name": "Python 3 (ipykernel)",
   "language": "python",
   "name": "python3"
  },
  "language_info": {
   "codemirror_mode": {
    "name": "ipython",
    "version": 3
   },
   "file_extension": ".py",
   "mimetype": "text/x-python",
   "name": "python",
   "nbconvert_exporter": "python",
   "pygments_lexer": "ipython3",
   "version": "3.10.10"
  }
 },
 "nbformat": 4,
 "nbformat_minor": 5
}
