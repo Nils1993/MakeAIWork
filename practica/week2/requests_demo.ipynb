{
 "cells": [
  {
   "cell_type": "code",
   "execution_count": 1,
   "id": "1dc33a92-a67e-4f9d-8e33-b009a767ffce",
   "metadata": {
    "tags": []
   },
   "outputs": [
    {
     "name": "stderr",
     "output_type": "stream",
     "text": [
      "C:\\Users\\nilsm\\AppData\\Local\\Temp\\ipykernel_18876\\3575498024.py:3: DeprecationWarning: Importing display from IPython.core.display is deprecated since IPython 7.14, please import from IPython display\n",
      "  from IPython.core.display import display, HTML\n"
     ]
    }
   ],
   "source": [
    "import requests\n",
    "import json\n",
    "from IPython.core.display import display, HTML\n",
    "import time"
   ]
  },
  {
   "cell_type": "markdown",
   "id": "3648a6af-0f33-4d37-9121-d424b597c1d6",
   "metadata": {},
   "source": [
    "## Steps\n",
    "\n",
    "1. Make request to an URL \n",
    "2. Check Status code\n",
    "3. Check content type\n",
    "4. Print content type\n",
    "5. Parse content type to python representation\n",
    "6. Use the data in your application"
   ]
  },
  {
   "cell_type": "code",
   "execution_count": 11,
   "id": "4f163722-1450-4376-9cd5-d32941d457b4",
   "metadata": {
    "tags": []
   },
   "outputs": [],
   "source": [
    "# Make request to an URL\n",
    "emojis = requests.get('https://emojihub.yurace.pro/api/random')\n"
   ]
  },
  {
   "cell_type": "code",
   "execution_count": 12,
   "id": "4c1cca5d-b541-4f3b-ab8f-5e9745ac9897",
   "metadata": {
    "tags": []
   },
   "outputs": [
    {
     "data": {
      "text/plain": [
       "200"
      ]
     },
     "execution_count": 12,
     "metadata": {},
     "output_type": "execute_result"
    }
   ],
   "source": [
    "# Check Status code\n",
    "emojis.status_code"
   ]
  },
  {
   "cell_type": "code",
   "execution_count": 13,
   "id": "78170a5a-7745-4335-9636-ab7a1b836d9c",
   "metadata": {
    "tags": []
   },
   "outputs": [
    {
     "data": {
      "text/plain": [
       "'application/json'"
      ]
     },
     "execution_count": 13,
     "metadata": {},
     "output_type": "execute_result"
    }
   ],
   "source": [
    "# Check content type\n",
    "emojis.headers['content-type']"
   ]
  },
  {
   "cell_type": "code",
   "execution_count": 14,
   "id": "63453241-3f24-4e92-b1ee-deb46f101455",
   "metadata": {
    "tags": []
   },
   "outputs": [
    {
     "data": {
      "text/plain": [
       "'{\"name\":\"cloud with rain\",\"category\":\"travel and places\",\"group\":\"travel and places\",\"htmlCode\":[\"\\\\u0026#127783;\"],\"unicode\":[\"U+1F327\"]}'"
      ]
     },
     "execution_count": 14,
     "metadata": {},
     "output_type": "execute_result"
    }
   ],
   "source": [
    "# Print content type as string\n",
    "emojis.text"
   ]
  },
  {
   "cell_type": "code",
   "execution_count": 15,
   "id": "5b1fc721-4521-4e2b-9dc7-0e0b4117c301",
   "metadata": {
    "tags": []
   },
   "outputs": [],
   "source": [
    "# Parse content type to python data type (dictionary)\n",
    "emoji_dict = json.loads(emojis.text)"
   ]
  },
  {
   "cell_type": "code",
   "execution_count": 16,
   "id": "c1184d05-b28c-4f66-b909-0559ab8cbac9",
   "metadata": {
    "tags": []
   },
   "outputs": [
    {
     "data": {
      "text/html": [
       "<p>cloud with rain (travel and places) --> &#127783;</p>"
      ],
      "text/plain": [
       "<IPython.core.display.HTML object>"
      ]
     },
     "metadata": {},
     "output_type": "display_data"
    }
   ],
   "source": [
    "# use the data in the application\n",
    "for emoji in emoji_dict['htmlCode']:\n",
    "    display(HTML(f'<p>{emoji_dict[\"name\"]} ({emoji_dict[\"category\"]}) --> {emoji}</p>'))"
   ]
  },
  {
   "cell_type": "code",
   "execution_count": null,
   "id": "e6c3deee-a667-44f2-bf3c-43b8e8a2de4b",
   "metadata": {},
   "outputs": [],
   "source": []
  },
  {
   "cell_type": "code",
   "execution_count": 17,
   "id": "92281b1d-6fd5-46db-8295-19b5c359bb06",
   "metadata": {
    "tags": []
   },
   "outputs": [
    {
     "data": {
      "text/html": [
       "<p style=\"font-size:25px\">backhand index pointing down, type-5 (smileys and people) --> <span style=\"font-size:50px\">&#128071;</span></p>"
      ],
      "text/plain": [
       "<IPython.core.display.HTML object>"
      ]
     },
     "metadata": {},
     "output_type": "display_data"
    },
    {
     "data": {
      "text/html": [
       "<p style=\"font-size:25px\">thumbs up, type-3 (smileys and people) --> <span style=\"font-size:50px\">&#128077;</span></p>"
      ],
      "text/plain": [
       "<IPython.core.display.HTML object>"
      ]
     },
     "metadata": {},
     "output_type": "display_data"
    },
    {
     "data": {
      "text/html": [
       "<p style=\"font-size:25px\">balloon (activities) --> <span style=\"font-size:50px\">&#127880;</span></p>"
      ],
      "text/plain": [
       "<IPython.core.display.HTML object>"
      ]
     },
     "metadata": {},
     "output_type": "display_data"
    },
    {
     "data": {
      "text/html": [
       "<p style=\"font-size:25px\">round pushpin (objects) --> <span style=\"font-size:50px\">&#128205;</span></p>"
      ],
      "text/plain": [
       "<IPython.core.display.HTML object>"
      ]
     },
     "metadata": {},
     "output_type": "display_data"
    },
    {
     "data": {
      "text/html": [
       "<p style=\"font-size:25px\">vulcan salute, type-3 (smileys and people) --> <span style=\"font-size:50px\">&#128406;</span></p>"
      ],
      "text/plain": [
       "<IPython.core.display.HTML object>"
      ]
     },
     "metadata": {},
     "output_type": "display_data"
    },
    {
     "data": {
      "text/html": [
       "<p style=\"font-size:25px\">white medium star (travel and places) --> <span style=\"font-size:50px\">&#11088;</span></p>"
      ],
      "text/plain": [
       "<IPython.core.display.HTML object>"
      ]
     },
     "metadata": {},
     "output_type": "display_data"
    },
    {
     "data": {
      "text/html": [
       "<p style=\"font-size:25px\">prince, type-3 (smileys and people) --> <span style=\"font-size:50px\">&#129332;</span></p>"
      ],
      "text/plain": [
       "<IPython.core.display.HTML object>"
      ]
     },
     "metadata": {},
     "output_type": "display_data"
    },
    {
     "data": {
      "text/html": [
       "<p style=\"font-size:25px\">police officer, type-5 (smileys and people) --> <span style=\"font-size:50px\">&#128110;</span></p>"
      ],
      "text/plain": [
       "<IPython.core.display.HTML object>"
      ]
     },
     "metadata": {},
     "output_type": "display_data"
    },
    {
     "data": {
      "text/html": [
       "<p style=\"font-size:25px\">bacon (food and drink) --> <span style=\"font-size:50px\">&#129363;</span></p>"
      ],
      "text/plain": [
       "<IPython.core.display.HTML object>"
      ]
     },
     "metadata": {},
     "output_type": "display_data"
    },
    {
     "data": {
      "text/html": [
       "<p style=\"font-size:25px\">womans hat ≊ womanâ€™s hat (smileys and people) --> <span style=\"font-size:50px\">&#128082;</span></p>"
      ],
      "text/plain": [
       "<IPython.core.display.HTML object>"
      ]
     },
     "metadata": {},
     "output_type": "display_data"
    },
    {
     "data": {
      "text/html": [
       "<p style=\"font-size:25px\">man, type-1-2 (smileys and people) --> <span style=\"font-size:50px\">&#128104;</span></p>"
      ],
      "text/plain": [
       "<IPython.core.display.HTML object>"
      ]
     },
     "metadata": {},
     "output_type": "display_data"
    },
    {
     "data": {
      "text/html": [
       "<p style=\"font-size:25px\">couple with heart, woman, man (smileys and people) --> <span style=\"font-size:50px\">&#128105;</span></p>"
      ],
      "text/plain": [
       "<IPython.core.display.HTML object>"
      ]
     },
     "metadata": {},
     "output_type": "display_data"
    },
    {
     "data": {
      "text/html": [
       "<p style=\"font-size:25px\">flexed biceps, type-1-2 (smileys and people) --> <span style=\"font-size:50px\">&#128170;</span></p>"
      ],
      "text/plain": [
       "<IPython.core.display.HTML object>"
      ]
     },
     "metadata": {},
     "output_type": "display_data"
    },
    {
     "data": {
      "text/html": [
       "<p style=\"font-size:25px\">black telephone ≊ telephone (objects) --> <span style=\"font-size:50px\">&#9742;</span></p>"
      ],
      "text/plain": [
       "<IPython.core.display.HTML object>"
      ]
     },
     "metadata": {},
     "output_type": "display_data"
    },
    {
     "data": {
      "text/html": [
       "<p style=\"font-size:25px\">umbrella on ground (travel and places) --> <span style=\"font-size:50px\">&#9969;</span></p>"
      ],
      "text/plain": [
       "<IPython.core.display.HTML object>"
      ]
     },
     "metadata": {},
     "output_type": "display_data"
    },
    {
     "data": {
      "text/html": [
       "<p style=\"font-size:25px\">person gesturing not ok, type-6 (smileys and people) --> <span style=\"font-size:50px\">&#128581;</span></p>"
      ],
      "text/plain": [
       "<IPython.core.display.HTML object>"
      ]
     },
     "metadata": {},
     "output_type": "display_data"
    },
    {
     "data": {
      "text/html": [
       "<p style=\"font-size:25px\">prince (smileys and people) --> <span style=\"font-size:50px\">&#129332;</span></p>"
      ],
      "text/plain": [
       "<IPython.core.display.HTML object>"
      ]
     },
     "metadata": {},
     "output_type": "display_data"
    },
    {
     "data": {
      "text/html": [
       "<p style=\"font-size:25px\">green book (objects) --> <span style=\"font-size:50px\">&#128215;</span></p>"
      ],
      "text/plain": [
       "<IPython.core.display.HTML object>"
      ]
     },
     "metadata": {},
     "output_type": "display_data"
    },
    {
     "data": {
      "text/html": [
       "<p style=\"font-size:25px\">selfie, type-3 (smileys and people) --> <span style=\"font-size:50px\">&#129331;</span></p>"
      ],
      "text/plain": [
       "<IPython.core.display.HTML object>"
      ]
     },
     "metadata": {},
     "output_type": "display_data"
    }
   ],
   "source": [
    "for i in range (0,20):\n",
    "    emoji = requests.get('https://emojihub.yurace.pro/api/random')\n",
    "    emoji_dict = json.loads(emoji.text)\n",
    "    if emoji_dict[\"category\"] != \"flags\":\n",
    "        display(HTML(f'<p style=\"font-size:25px\">{emoji_dict[\"name\"]} ({emoji_dict[\"category\"]}) --> <span style=\"font-size:50px\">{emoji_dict[\"htmlCode\"][0]}</span></p>'))\n",
    "    time.sleep(.1)"
   ]
  },
  {
   "cell_type": "code",
   "execution_count": 72,
   "id": "16d57d2c-4dfa-4633-aab7-754ff4aeca4c",
   "metadata": {},
   "outputs": [],
   "source": [
    "api_key = \"8f371c9a6e4a4858943122545231502\""
   ]
  },
  {
   "cell_type": "code",
   "execution_count": 73,
   "id": "e637319c-45fb-4e2e-a276-88aa3176a3ec",
   "metadata": {},
   "outputs": [],
   "source": [
    "r = requests.get(f'http://api.weatherapi.com/v1/current.json?q=Rotterdam&key={api_key}')"
   ]
  },
  {
   "cell_type": "code",
   "execution_count": 74,
   "id": "9186b31a-4e65-46b5-a732-914157c81ff7",
   "metadata": {},
   "outputs": [
    {
     "data": {
      "text/plain": [
       "{'location': {'name': 'Rotterdam',\n",
       "  'region': 'South Holland',\n",
       "  'country': 'Netherlands',\n",
       "  'lat': 51.92,\n",
       "  'lon': 4.48,\n",
       "  'tz_id': 'Europe/Amsterdam',\n",
       "  'localtime_epoch': 1676464516,\n",
       "  'localtime': '2023-02-15 13:35'},\n",
       " 'current': {'last_updated_epoch': 1676464200,\n",
       "  'last_updated': '2023-02-15 13:30',\n",
       "  'temp_c': 10.0,\n",
       "  'temp_f': 50.0,\n",
       "  'is_day': 1,\n",
       "  'condition': {'text': 'Sunny',\n",
       "   'icon': '//cdn.weatherapi.com/weather/64x64/day/113.png',\n",
       "   'code': 1000},\n",
       "  'wind_mph': 8.1,\n",
       "  'wind_kph': 13.0,\n",
       "  'wind_degree': 200,\n",
       "  'wind_dir': 'SSW',\n",
       "  'pressure_mb': 1024.0,\n",
       "  'pressure_in': 30.24,\n",
       "  'precip_mm': 0.0,\n",
       "  'precip_in': 0.0,\n",
       "  'humidity': 76,\n",
       "  'cloud': 0,\n",
       "  'feelslike_c': 7.9,\n",
       "  'feelslike_f': 46.2,\n",
       "  'vis_km': 9.0,\n",
       "  'vis_miles': 5.0,\n",
       "  'uv': 4.0,\n",
       "  'gust_mph': 11.9,\n",
       "  'gust_kph': 19.1}}"
      ]
     },
     "execution_count": 74,
     "metadata": {},
     "output_type": "execute_result"
    }
   ],
   "source": [
    "current_weather = json.loads(r.text)\n",
    "current_weather"
   ]
  },
  {
   "cell_type": "code",
   "execution_count": null,
   "id": "6d0612a8-ad32-4909-94e9-74e818f54fbd",
   "metadata": {},
   "outputs": [],
   "source": []
  }
 ],
 "metadata": {
  "kernelspec": {
   "display_name": "Python 3 (ipykernel)",
   "language": "python",
   "name": "python3"
  },
  "language_info": {
   "codemirror_mode": {
    "name": "ipython",
    "version": 3
   },
   "file_extension": ".py",
   "mimetype": "text/x-python",
   "name": "python",
   "nbconvert_exporter": "python",
   "pygments_lexer": "ipython3",
   "version": "3.10.10"
  }
 },
 "nbformat": 4,
 "nbformat_minor": 5
}
