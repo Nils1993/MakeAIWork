{
 "cells": [
  {
   "cell_type": "markdown",
   "id": "d4334e7a",
   "metadata": {},
   "source": [
    "# Bron\n",
    "\n",
    "https://en.wikipedia.org/wiki/Correlation"
   ]
  },
  {
   "cell_type": "code",
   "execution_count": 1,
   "id": "ff9ebb2d",
   "metadata": {},
   "outputs": [],
   "source": [
    "import numpy as np\n",
    "import pandas as pd"
   ]
  },
  {
   "cell_type": "code",
   "execution_count": null,
   "id": "d0490f02",
   "metadata": {},
   "outputs": [],
   "source": [
    "# According to the formula we need:\n",
    "\n",
    "# 1. Compute the average of X (avgX)\n",
    "# 2. Compute the average of Y (avgY)\n",
    "# 3. Compute the variation of X (stdX)\n",
    "# 4. Compute the variation of Y (stdY)\n",
    "\n",
    "# Once we have computed the ingredients above\n",
    "# we must compute the sum of (Xi - avgX) * (Yi - avgY) and divide by stdX * stdY"
   ]
  },
  {
   "cell_type": "code",
   "execution_count": 6,
   "id": "fdd9c6a7",
   "metadata": {},
   "outputs": [],
   "source": [
    "# Let's define our linear dataset\n",
    "x = np.array([0, 1, 2, 3, 4])\n",
    "y = np.array([1, 2, 3, 4, 5])"
   ]
  },
  {
   "cell_type": "code",
   "execution_count": 9,
   "id": "9acff2f8",
   "metadata": {},
   "outputs": [
    {
     "data": {
      "text/plain": [
       "2.0"
      ]
     },
     "metadata": {},
     "output_type": "display_data"
    },
    {
     "data": {
      "text/plain": [
       "3.0"
      ]
     },
     "metadata": {},
     "output_type": "display_data"
    }
   ],
   "source": [
    "# 1. Compute the average of X (avgX)\n",
    "avgx = np.average(x)\n",
    "\n",
    "display(avgx)\n",
    "# 2. Compute the average of Y (avgY)\n",
    "avgy = np.average(y)\n",
    "\n",
    "display(avgy)"
   ]
  },
  {
   "cell_type": "code",
   "execution_count": 11,
   "id": "6028b2a9",
   "metadata": {},
   "outputs": [
    {
     "data": {
      "text/plain": [
       "1.4142135623730951"
      ]
     },
     "metadata": {},
     "output_type": "display_data"
    },
    {
     "data": {
      "text/plain": [
       "1.4142135623730951"
      ]
     },
     "metadata": {},
     "output_type": "display_data"
    }
   ],
   "source": [
    "# 3. Compute the variation of X (stdX)\n",
    "stdx = np.std(x)\n",
    "\n",
    "display(stdx)\n",
    "\n",
    "# 4. Compute the variation of Y (stdY)\n",
    "stdy = np.std(y)\n",
    "\n",
    "display(stdy)"
   ]
  },
  {
   "cell_type": "code",
   "execution_count": 13,
   "id": "3d2a24f1",
   "metadata": {},
   "outputs": [
    {
     "data": {
      "text/plain": [
       "0.9999999999999998"
      ]
     },
     "metadata": {},
     "output_type": "display_data"
    }
   ],
   "source": [
    "# Once we have computed the ingredients above\n",
    "# we must compute the sum of (Xi - avgX) * (Yi - avgY) and divide by stdX * stdY\n",
    "p = np.sum((x-avgx) * (y-avgy)) / (len(x)*stdx*stdy)\n",
    "\n",
    "display(p)"
   ]
  },
  {
   "cell_type": "code",
   "execution_count": 17,
   "id": "2ff0774b",
   "metadata": {},
   "outputs": [],
   "source": [
    "# Let's define the pearson correlation as a function\n",
    "def pearsonCorrelation(x,y):\n",
    "    avgx = np.average(x)\n",
    "    avgy = np.average(y)\n",
    "    stdx = np.std(x)\n",
    "    stdy = np.std(y)\n",
    "    return np.sum((x-avgx) * (y-avgy)) / (len(x)*stdx*stdy)\n"
   ]
  },
  {
   "cell_type": "code",
   "execution_count": 14,
   "id": "ce3d731f",
   "metadata": {},
   "outputs": [],
   "source": [
    "# Let's use the dataset of project 1\n",
    "df = pd.read_csv(\"C:/Users/nilsm/MakeAIWork/practica/week4/Correlation/data-project-1-cleaned.csv\")"
   ]
  },
  {
   "cell_type": "code",
   "execution_count": 15,
   "id": "624b17b7",
   "metadata": {},
   "outputs": [
    {
     "data": {
      "text/html": [
       "<div>\n",
       "<style scoped>\n",
       "    .dataframe tbody tr th:only-of-type {\n",
       "        vertical-align: middle;\n",
       "    }\n",
       "\n",
       "    .dataframe tbody tr th {\n",
       "        vertical-align: top;\n",
       "    }\n",
       "\n",
       "    .dataframe thead th {\n",
       "        text-align: right;\n",
       "    }\n",
       "</style>\n",
       "<table border=\"1\" class=\"dataframe\">\n",
       "  <thead>\n",
       "    <tr style=\"text-align: right;\">\n",
       "      <th></th>\n",
       "      <th>genetic</th>\n",
       "      <th>length</th>\n",
       "      <th>mass</th>\n",
       "      <th>exercise</th>\n",
       "      <th>smoking</th>\n",
       "      <th>alcohol</th>\n",
       "      <th>sugar</th>\n",
       "      <th>lifespan</th>\n",
       "    </tr>\n",
       "  </thead>\n",
       "  <tbody>\n",
       "    <tr>\n",
       "      <th>genetic</th>\n",
       "      <td>1.000000</td>\n",
       "      <td>-0.029606</td>\n",
       "      <td>0.000513</td>\n",
       "      <td>-0.035005</td>\n",
       "      <td>-0.015490</td>\n",
       "      <td>-0.013170</td>\n",
       "      <td>0.018785</td>\n",
       "      <td>0.949799</td>\n",
       "    </tr>\n",
       "    <tr>\n",
       "      <th>length</th>\n",
       "      <td>-0.029606</td>\n",
       "      <td>1.000000</td>\n",
       "      <td>0.000106</td>\n",
       "      <td>0.011401</td>\n",
       "      <td>-0.020691</td>\n",
       "      <td>-0.007162</td>\n",
       "      <td>0.007860</td>\n",
       "      <td>0.013155</td>\n",
       "    </tr>\n",
       "    <tr>\n",
       "      <th>mass</th>\n",
       "      <td>0.000513</td>\n",
       "      <td>0.000106</td>\n",
       "      <td>1.000000</td>\n",
       "      <td>0.008204</td>\n",
       "      <td>-0.009541</td>\n",
       "      <td>0.000726</td>\n",
       "      <td>0.005601</td>\n",
       "      <td>-0.066040</td>\n",
       "    </tr>\n",
       "    <tr>\n",
       "      <th>exercise</th>\n",
       "      <td>-0.035005</td>\n",
       "      <td>0.011401</td>\n",
       "      <td>0.008204</td>\n",
       "      <td>1.000000</td>\n",
       "      <td>0.021512</td>\n",
       "      <td>-0.024521</td>\n",
       "      <td>-0.008328</td>\n",
       "      <td>0.082986</td>\n",
       "    </tr>\n",
       "    <tr>\n",
       "      <th>smoking</th>\n",
       "      <td>-0.015490</td>\n",
       "      <td>-0.020691</td>\n",
       "      <td>-0.009541</td>\n",
       "      <td>0.021512</td>\n",
       "      <td>1.000000</td>\n",
       "      <td>-0.012298</td>\n",
       "      <td>0.008925</td>\n",
       "      <td>-0.246140</td>\n",
       "    </tr>\n",
       "    <tr>\n",
       "      <th>alcohol</th>\n",
       "      <td>-0.013170</td>\n",
       "      <td>-0.007162</td>\n",
       "      <td>0.000726</td>\n",
       "      <td>-0.024521</td>\n",
       "      <td>-0.012298</td>\n",
       "      <td>1.000000</td>\n",
       "      <td>0.003860</td>\n",
       "      <td>-0.063539</td>\n",
       "    </tr>\n",
       "    <tr>\n",
       "      <th>sugar</th>\n",
       "      <td>0.018785</td>\n",
       "      <td>0.007860</td>\n",
       "      <td>0.005601</td>\n",
       "      <td>-0.008328</td>\n",
       "      <td>0.008925</td>\n",
       "      <td>0.003860</td>\n",
       "      <td>1.000000</td>\n",
       "      <td>-0.010887</td>\n",
       "    </tr>\n",
       "    <tr>\n",
       "      <th>lifespan</th>\n",
       "      <td>0.949799</td>\n",
       "      <td>0.013155</td>\n",
       "      <td>-0.066040</td>\n",
       "      <td>0.082986</td>\n",
       "      <td>-0.246140</td>\n",
       "      <td>-0.063539</td>\n",
       "      <td>-0.010887</td>\n",
       "      <td>1.000000</td>\n",
       "    </tr>\n",
       "  </tbody>\n",
       "</table>\n",
       "</div>"
      ],
      "text/plain": [
       "           genetic    length      mass  exercise   smoking   alcohol  \\\n",
       "genetic   1.000000 -0.029606  0.000513 -0.035005 -0.015490 -0.013170   \n",
       "length   -0.029606  1.000000  0.000106  0.011401 -0.020691 -0.007162   \n",
       "mass      0.000513  0.000106  1.000000  0.008204 -0.009541  0.000726   \n",
       "exercise -0.035005  0.011401  0.008204  1.000000  0.021512 -0.024521   \n",
       "smoking  -0.015490 -0.020691 -0.009541  0.021512  1.000000 -0.012298   \n",
       "alcohol  -0.013170 -0.007162  0.000726 -0.024521 -0.012298  1.000000   \n",
       "sugar     0.018785  0.007860  0.005601 -0.008328  0.008925  0.003860   \n",
       "lifespan  0.949799  0.013155 -0.066040  0.082986 -0.246140 -0.063539   \n",
       "\n",
       "             sugar  lifespan  \n",
       "genetic   0.018785  0.949799  \n",
       "length    0.007860  0.013155  \n",
       "mass      0.005601 -0.066040  \n",
       "exercise -0.008328  0.082986  \n",
       "smoking   0.008925 -0.246140  \n",
       "alcohol   0.003860 -0.063539  \n",
       "sugar     1.000000 -0.010887  \n",
       "lifespan -0.010887  1.000000  "
      ]
     },
     "execution_count": 15,
     "metadata": {},
     "output_type": "execute_result"
    }
   ],
   "source": [
    "# Look at the correlations\n",
    "df.corr()"
   ]
  },
  {
   "cell_type": "code",
   "execution_count": 18,
   "id": "f413b160",
   "metadata": {},
   "outputs": [
    {
     "data": {
      "text/plain": [
       "0.9497989543481246"
      ]
     },
     "metadata": {},
     "output_type": "display_data"
    }
   ],
   "source": [
    "# Let's check\n",
    "display(pearsonCorrelation(df['genetic'],df['lifespan']))"
   ]
  },
  {
   "cell_type": "code",
   "execution_count": 19,
   "id": "b1831cd8",
   "metadata": {},
   "outputs": [
    {
     "data": {
      "text/plain": [
       "array([[1.        , 0.94979895],\n",
       "       [0.94979895, 1.        ]])"
      ]
     },
     "metadata": {},
     "output_type": "display_data"
    }
   ],
   "source": [
    "# Let's double check\n",
    "display(np.corrcoef(df['genetic'],df['lifespan']))"
   ]
  }
 ],
 "metadata": {
  "kernelspec": {
   "display_name": "Python 3 (ipykernel)",
   "language": "python",
   "name": "python3"
  },
  "language_info": {
   "codemirror_mode": {
    "name": "ipython",
    "version": 3
   },
   "file_extension": ".py",
   "mimetype": "text/x-python",
   "name": "python",
   "nbconvert_exporter": "python",
   "pygments_lexer": "ipython3",
   "version": "3.10.10"
  }
 },
 "nbformat": 4,
 "nbformat_minor": 5
}
