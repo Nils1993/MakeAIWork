{
 "cells": [
  {
   "attachments": {},
   "cell_type": "markdown",
   "metadata": {},
   "source": [
    "# Training and testing my model using multiple linear regression\n",
    "\n",
    "Installing libraries"
   ]
  },
  {
   "cell_type": "code",
   "execution_count": 44,
   "metadata": {},
   "outputs": [],
   "source": [
    "import pandas as pd\n",
    "import numpy as np\n",
    "import seaborn as sns\n",
    "import matplotlib.pyplot as plt\n",
    "from sklearn.model_selection import train_test_split\n",
    "from sklearn.linear_model import LinearRegression\n",
    "from sklearn.metrics import r2_score\n",
    "import sqlite3\n",
    "import pickle"
   ]
  },
  {
   "attachments": {},
   "cell_type": "markdown",
   "metadata": {},
   "source": [
    "### Gathering the cleaned up data from the database"
   ]
  },
  {
   "cell_type": "code",
   "execution_count": 45,
   "metadata": {},
   "outputs": [
    {
     "data": {
      "text/html": [
       "<div>\n",
       "<style scoped>\n",
       "    .dataframe tbody tr th:only-of-type {\n",
       "        vertical-align: middle;\n",
       "    }\n",
       "\n",
       "    .dataframe tbody tr th {\n",
       "        vertical-align: top;\n",
       "    }\n",
       "\n",
       "    .dataframe thead th {\n",
       "        text-align: right;\n",
       "    }\n",
       "</style>\n",
       "<table border=\"1\" class=\"dataframe\">\n",
       "  <thead>\n",
       "    <tr style=\"text-align: right;\">\n",
       "      <th></th>\n",
       "      <th>genetic</th>\n",
       "      <th>exercise</th>\n",
       "      <th>smoking</th>\n",
       "      <th>alcohol</th>\n",
       "      <th>lifespan</th>\n",
       "      <th>sugar</th>\n",
       "      <th>bmi</th>\n",
       "    </tr>\n",
       "  </thead>\n",
       "  <tbody>\n",
       "    <tr>\n",
       "      <th>count</th>\n",
       "      <td>4084.000000</td>\n",
       "      <td>4084.000000</td>\n",
       "      <td>4084.000000</td>\n",
       "      <td>4084.000000</td>\n",
       "      <td>4084.000000</td>\n",
       "      <td>4084.000000</td>\n",
       "      <td>4084.000000</td>\n",
       "    </tr>\n",
       "    <tr>\n",
       "      <th>mean</th>\n",
       "      <td>82.278624</td>\n",
       "      <td>2.403477</td>\n",
       "      <td>9.809035</td>\n",
       "      <td>2.266846</td>\n",
       "      <td>80.177693</td>\n",
       "      <td>6.487169</td>\n",
       "      <td>27.682023</td>\n",
       "    </tr>\n",
       "    <tr>\n",
       "      <th>std</th>\n",
       "      <td>7.441333</td>\n",
       "      <td>1.170426</td>\n",
       "      <td>6.918614</td>\n",
       "      <td>1.801044</td>\n",
       "      <td>7.840508</td>\n",
       "      <td>2.708622</td>\n",
       "      <td>8.711736</td>\n",
       "    </tr>\n",
       "    <tr>\n",
       "      <th>min</th>\n",
       "      <td>63.900000</td>\n",
       "      <td>0.100000</td>\n",
       "      <td>0.000000</td>\n",
       "      <td>0.000000</td>\n",
       "      <td>57.000000</td>\n",
       "      <td>0.700000</td>\n",
       "      <td>11.320000</td>\n",
       "    </tr>\n",
       "    <tr>\n",
       "      <th>25%</th>\n",
       "      <td>77.600000</td>\n",
       "      <td>1.500000</td>\n",
       "      <td>3.375000</td>\n",
       "      <td>0.600000</td>\n",
       "      <td>75.000000</td>\n",
       "      <td>4.400000</td>\n",
       "      <td>20.937500</td>\n",
       "    </tr>\n",
       "    <tr>\n",
       "      <th>50%</th>\n",
       "      <td>81.800000</td>\n",
       "      <td>2.200000</td>\n",
       "      <td>9.500000</td>\n",
       "      <td>1.700000</td>\n",
       "      <td>79.700000</td>\n",
       "      <td>6.300000</td>\n",
       "      <td>26.475000</td>\n",
       "    </tr>\n",
       "    <tr>\n",
       "      <th>75%</th>\n",
       "      <td>86.700000</td>\n",
       "      <td>3.200000</td>\n",
       "      <td>15.900000</td>\n",
       "      <td>4.000000</td>\n",
       "      <td>85.200000</td>\n",
       "      <td>8.400000</td>\n",
       "      <td>33.207500</td>\n",
       "    </tr>\n",
       "    <tr>\n",
       "      <th>max</th>\n",
       "      <td>102.200000</td>\n",
       "      <td>5.500000</td>\n",
       "      <td>22.200000</td>\n",
       "      <td>6.000000</td>\n",
       "      <td>105.100000</td>\n",
       "      <td>13.800000</td>\n",
       "      <td>65.870000</td>\n",
       "    </tr>\n",
       "  </tbody>\n",
       "</table>\n",
       "</div>"
      ],
      "text/plain": [
       "           genetic     exercise      smoking      alcohol     lifespan  \\\n",
       "count  4084.000000  4084.000000  4084.000000  4084.000000  4084.000000   \n",
       "mean     82.278624     2.403477     9.809035     2.266846    80.177693   \n",
       "std       7.441333     1.170426     6.918614     1.801044     7.840508   \n",
       "min      63.900000     0.100000     0.000000     0.000000    57.000000   \n",
       "25%      77.600000     1.500000     3.375000     0.600000    75.000000   \n",
       "50%      81.800000     2.200000     9.500000     1.700000    79.700000   \n",
       "75%      86.700000     3.200000    15.900000     4.000000    85.200000   \n",
       "max     102.200000     5.500000    22.200000     6.000000   105.100000   \n",
       "\n",
       "             sugar          bmi  \n",
       "count  4084.000000  4084.000000  \n",
       "mean      6.487169    27.682023  \n",
       "std       2.708622     8.711736  \n",
       "min       0.700000    11.320000  \n",
       "25%       4.400000    20.937500  \n",
       "50%       6.300000    26.475000  \n",
       "75%       8.400000    33.207500  \n",
       "max      13.800000    65.870000  "
      ]
     },
     "execution_count": 45,
     "metadata": {},
     "output_type": "execute_result"
    }
   ],
   "source": [
    "# Global variables\n",
    "dbPath = \"../database\"\n",
    "\n",
    "# Collecting the data\n",
    "# Specify the con\n",
    "con = sqlite3.connect(f'{dbPath}/db.sqlite3')\n",
    "# Convert to DataFrame\n",
    "df = pd.read_sql('SELECT * FROM clean', con=con)\n",
    "\n",
    "# doublecheck\n",
    "df.describe()"
   ]
  },
  {
   "cell_type": "code",
   "execution_count": 46,
   "metadata": {},
   "outputs": [
    {
     "data": {
      "text/html": [
       "<div>\n",
       "<style scoped>\n",
       "    .dataframe tbody tr th:only-of-type {\n",
       "        vertical-align: middle;\n",
       "    }\n",
       "\n",
       "    .dataframe tbody tr th {\n",
       "        vertical-align: top;\n",
       "    }\n",
       "\n",
       "    .dataframe thead th {\n",
       "        text-align: right;\n",
       "    }\n",
       "</style>\n",
       "<table border=\"1\" class=\"dataframe\">\n",
       "  <thead>\n",
       "    <tr style=\"text-align: right;\">\n",
       "      <th></th>\n",
       "      <th>genetic</th>\n",
       "      <th>exercise</th>\n",
       "      <th>smoking</th>\n",
       "      <th>alcohol</th>\n",
       "      <th>lifespan</th>\n",
       "      <th>sugar</th>\n",
       "      <th>bmi</th>\n",
       "    </tr>\n",
       "  </thead>\n",
       "  <tbody>\n",
       "    <tr>\n",
       "      <th>count</th>\n",
       "      <td>3977.000000</td>\n",
       "      <td>3977.000000</td>\n",
       "      <td>3977.000000</td>\n",
       "      <td>3977.000000</td>\n",
       "      <td>3977.000000</td>\n",
       "      <td>3977.000000</td>\n",
       "      <td>3977.000000</td>\n",
       "    </tr>\n",
       "    <tr>\n",
       "      <th>mean</th>\n",
       "      <td>82.038823</td>\n",
       "      <td>2.404249</td>\n",
       "      <td>9.780639</td>\n",
       "      <td>2.269776</td>\n",
       "      <td>79.988358</td>\n",
       "      <td>6.484461</td>\n",
       "      <td>27.419427</td>\n",
       "    </tr>\n",
       "    <tr>\n",
       "      <th>std</th>\n",
       "      <td>7.087155</td>\n",
       "      <td>1.170096</td>\n",
       "      <td>6.910443</td>\n",
       "      <td>1.803397</td>\n",
       "      <td>7.453324</td>\n",
       "      <td>2.707867</td>\n",
       "      <td>8.306660</td>\n",
       "    </tr>\n",
       "    <tr>\n",
       "      <th>min</th>\n",
       "      <td>64.000000</td>\n",
       "      <td>0.100000</td>\n",
       "      <td>0.000000</td>\n",
       "      <td>0.000000</td>\n",
       "      <td>59.700000</td>\n",
       "      <td>0.700000</td>\n",
       "      <td>11.320000</td>\n",
       "    </tr>\n",
       "    <tr>\n",
       "      <th>25%</th>\n",
       "      <td>77.600000</td>\n",
       "      <td>1.500000</td>\n",
       "      <td>3.300000</td>\n",
       "      <td>0.600000</td>\n",
       "      <td>75.000000</td>\n",
       "      <td>4.400000</td>\n",
       "      <td>20.890000</td>\n",
       "    </tr>\n",
       "    <tr>\n",
       "      <th>50%</th>\n",
       "      <td>81.700000</td>\n",
       "      <td>2.200000</td>\n",
       "      <td>9.500000</td>\n",
       "      <td>1.700000</td>\n",
       "      <td>79.600000</td>\n",
       "      <td>6.300000</td>\n",
       "      <td>26.380000</td>\n",
       "    </tr>\n",
       "    <tr>\n",
       "      <th>75%</th>\n",
       "      <td>86.500000</td>\n",
       "      <td>3.200000</td>\n",
       "      <td>15.800000</td>\n",
       "      <td>4.000000</td>\n",
       "      <td>84.900000</td>\n",
       "      <td>8.400000</td>\n",
       "      <td>32.990000</td>\n",
       "    </tr>\n",
       "    <tr>\n",
       "      <th>max</th>\n",
       "      <td>100.300000</td>\n",
       "      <td>5.500000</td>\n",
       "      <td>22.200000</td>\n",
       "      <td>6.000000</td>\n",
       "      <td>100.400000</td>\n",
       "      <td>13.800000</td>\n",
       "      <td>51.550000</td>\n",
       "    </tr>\n",
       "  </tbody>\n",
       "</table>\n",
       "</div>"
      ],
      "text/plain": [
       "           genetic     exercise      smoking      alcohol     lifespan  \\\n",
       "count  3977.000000  3977.000000  3977.000000  3977.000000  3977.000000   \n",
       "mean     82.038823     2.404249     9.780639     2.269776    79.988358   \n",
       "std       7.087155     1.170096     6.910443     1.803397     7.453324   \n",
       "min      64.000000     0.100000     0.000000     0.000000    59.700000   \n",
       "25%      77.600000     1.500000     3.300000     0.600000    75.000000   \n",
       "50%      81.700000     2.200000     9.500000     1.700000    79.600000   \n",
       "75%      86.500000     3.200000    15.800000     4.000000    84.900000   \n",
       "max     100.300000     5.500000    22.200000     6.000000   100.400000   \n",
       "\n",
       "             sugar          bmi  \n",
       "count  3977.000000  3977.000000  \n",
       "mean      6.484461    27.419427  \n",
       "std       2.707867     8.306660  \n",
       "min       0.700000    11.320000  \n",
       "25%       4.400000    20.890000  \n",
       "50%       6.300000    26.380000  \n",
       "75%       8.400000    32.990000  \n",
       "max      13.800000    51.550000  "
      ]
     },
     "execution_count": 46,
     "metadata": {},
     "output_type": "execute_result"
    }
   ],
   "source": [
    "# Collecting the data\n",
    "# Convert to DataFrame\n",
    "df2 = pd.read_sql('SELECT * FROM iqr', con=con)\n",
    "\n",
    "# doublecheck\n",
    "df2.describe()"
   ]
  },
  {
   "attachments": {},
   "cell_type": "markdown",
   "metadata": {},
   "source": [
    "### Create x (independent) and y (dependent) for both dataframe's"
   ]
  },
  {
   "cell_type": "code",
   "execution_count": 47,
   "metadata": {},
   "outputs": [
    {
     "data": {
      "text/html": [
       "<div>\n",
       "<style scoped>\n",
       "    .dataframe tbody tr th:only-of-type {\n",
       "        vertical-align: middle;\n",
       "    }\n",
       "\n",
       "    .dataframe tbody tr th {\n",
       "        vertical-align: top;\n",
       "    }\n",
       "\n",
       "    .dataframe thead th {\n",
       "        text-align: right;\n",
       "    }\n",
       "</style>\n",
       "<table border=\"1\" class=\"dataframe\">\n",
       "  <thead>\n",
       "    <tr style=\"text-align: right;\">\n",
       "      <th></th>\n",
       "      <th>genetic</th>\n",
       "      <th>exercise</th>\n",
       "      <th>smoking</th>\n",
       "      <th>alcohol</th>\n",
       "      <th>sugar</th>\n",
       "      <th>bmi</th>\n",
       "    </tr>\n",
       "  </thead>\n",
       "  <tbody>\n",
       "    <tr>\n",
       "      <th>0</th>\n",
       "      <td>73.9</td>\n",
       "      <td>0.9</td>\n",
       "      <td>0.0</td>\n",
       "      <td>2.4</td>\n",
       "      <td>6.9</td>\n",
       "      <td>29.13</td>\n",
       "    </tr>\n",
       "    <tr>\n",
       "      <th>1</th>\n",
       "      <td>86.0</td>\n",
       "      <td>1.8</td>\n",
       "      <td>8.1</td>\n",
       "      <td>0.4</td>\n",
       "      <td>4.2</td>\n",
       "      <td>35.63</td>\n",
       "    </tr>\n",
       "    <tr>\n",
       "      <th>2</th>\n",
       "      <td>83.3</td>\n",
       "      <td>1.1</td>\n",
       "      <td>0.8</td>\n",
       "      <td>4.6</td>\n",
       "      <td>7.5</td>\n",
       "      <td>35.96</td>\n",
       "    </tr>\n",
       "    <tr>\n",
       "      <th>3</th>\n",
       "      <td>82.8</td>\n",
       "      <td>4.7</td>\n",
       "      <td>11.8</td>\n",
       "      <td>1.0</td>\n",
       "      <td>2.9</td>\n",
       "      <td>41.42</td>\n",
       "    </tr>\n",
       "    <tr>\n",
       "      <th>4</th>\n",
       "      <td>78.7</td>\n",
       "      <td>1.5</td>\n",
       "      <td>8.3</td>\n",
       "      <td>4.9</td>\n",
       "      <td>5.5</td>\n",
       "      <td>22.60</td>\n",
       "    </tr>\n",
       "  </tbody>\n",
       "</table>\n",
       "</div>"
      ],
      "text/plain": [
       "   genetic  exercise  smoking  alcohol  sugar    bmi\n",
       "0     73.9       0.9      0.0      2.4    6.9  29.13\n",
       "1     86.0       1.8      8.1      0.4    4.2  35.63\n",
       "2     83.3       1.1      0.8      4.6    7.5  35.96\n",
       "3     82.8       4.7     11.8      1.0    2.9  41.42\n",
       "4     78.7       1.5      8.3      4.9    5.5  22.60"
      ]
     },
     "metadata": {},
     "output_type": "display_data"
    },
    {
     "data": {
      "text/plain": [
       "0    73.1\n",
       "1    85.0\n",
       "2    81.6\n",
       "3    81.0\n",
       "4    75.0\n",
       "Name: lifespan, dtype: float64"
      ]
     },
     "metadata": {},
     "output_type": "display_data"
    }
   ],
   "source": [
    "# create x and y\n",
    "x = df.drop(columns='lifespan')\n",
    "y = df['lifespan']\n",
    "\n",
    "display(x.head())\n",
    "display(y.head())\n"
   ]
  },
  {
   "cell_type": "code",
   "execution_count": 48,
   "metadata": {},
   "outputs": [
    {
     "data": {
      "text/html": [
       "<div>\n",
       "<style scoped>\n",
       "    .dataframe tbody tr th:only-of-type {\n",
       "        vertical-align: middle;\n",
       "    }\n",
       "\n",
       "    .dataframe tbody tr th {\n",
       "        vertical-align: top;\n",
       "    }\n",
       "\n",
       "    .dataframe thead th {\n",
       "        text-align: right;\n",
       "    }\n",
       "</style>\n",
       "<table border=\"1\" class=\"dataframe\">\n",
       "  <thead>\n",
       "    <tr style=\"text-align: right;\">\n",
       "      <th></th>\n",
       "      <th>genetic</th>\n",
       "      <th>exercise</th>\n",
       "      <th>smoking</th>\n",
       "      <th>alcohol</th>\n",
       "      <th>sugar</th>\n",
       "      <th>bmi</th>\n",
       "    </tr>\n",
       "  </thead>\n",
       "  <tbody>\n",
       "    <tr>\n",
       "      <th>0</th>\n",
       "      <td>73.9</td>\n",
       "      <td>0.9</td>\n",
       "      <td>0.0</td>\n",
       "      <td>2.4</td>\n",
       "      <td>6.9</td>\n",
       "      <td>29.13</td>\n",
       "    </tr>\n",
       "    <tr>\n",
       "      <th>1</th>\n",
       "      <td>86.0</td>\n",
       "      <td>1.8</td>\n",
       "      <td>8.1</td>\n",
       "      <td>0.4</td>\n",
       "      <td>4.2</td>\n",
       "      <td>35.63</td>\n",
       "    </tr>\n",
       "    <tr>\n",
       "      <th>2</th>\n",
       "      <td>83.3</td>\n",
       "      <td>1.1</td>\n",
       "      <td>0.8</td>\n",
       "      <td>4.6</td>\n",
       "      <td>7.5</td>\n",
       "      <td>35.96</td>\n",
       "    </tr>\n",
       "    <tr>\n",
       "      <th>3</th>\n",
       "      <td>82.8</td>\n",
       "      <td>4.7</td>\n",
       "      <td>11.8</td>\n",
       "      <td>1.0</td>\n",
       "      <td>2.9</td>\n",
       "      <td>41.42</td>\n",
       "    </tr>\n",
       "    <tr>\n",
       "      <th>4</th>\n",
       "      <td>78.7</td>\n",
       "      <td>1.5</td>\n",
       "      <td>8.3</td>\n",
       "      <td>4.9</td>\n",
       "      <td>5.5</td>\n",
       "      <td>22.60</td>\n",
       "    </tr>\n",
       "  </tbody>\n",
       "</table>\n",
       "</div>"
      ],
      "text/plain": [
       "   genetic  exercise  smoking  alcohol  sugar    bmi\n",
       "0     73.9       0.9      0.0      2.4    6.9  29.13\n",
       "1     86.0       1.8      8.1      0.4    4.2  35.63\n",
       "2     83.3       1.1      0.8      4.6    7.5  35.96\n",
       "3     82.8       4.7     11.8      1.0    2.9  41.42\n",
       "4     78.7       1.5      8.3      4.9    5.5  22.60"
      ]
     },
     "metadata": {},
     "output_type": "display_data"
    },
    {
     "data": {
      "text/plain": [
       "0    73.1\n",
       "1    85.0\n",
       "2    81.6\n",
       "3    81.0\n",
       "4    75.0\n",
       "Name: lifespan, dtype: float64"
      ]
     },
     "metadata": {},
     "output_type": "display_data"
    }
   ],
   "source": [
    "# create x2 and y2\n",
    "x2 = df2.drop(columns='lifespan')\n",
    "y2 = df2['lifespan']\n",
    "\n",
    "display(x2.head())\n",
    "display(y2.head())"
   ]
  },
  {
   "attachments": {},
   "cell_type": "markdown",
   "metadata": {},
   "source": [
    "### Split the data 70% (to train) and 30% (to test)\n",
    "\n",
    "-   To do this I use the train_test_split function from the sklearn.model_selection library and set the test_size to 0.3 (30%)"
   ]
  },
  {
   "cell_type": "code",
   "execution_count": 49,
   "metadata": {},
   "outputs": [],
   "source": [
    "# split the data 30% - 70%\n",
    "x_train, x_test, y_train, y_test = train_test_split(x, y, test_size=0.3, random_state=0)\n",
    "\n",
    "x2_train, x2_test, y2_train, y2_test = train_test_split(x2, y2, test_size=0.3, random_state=0)"
   ]
  },
  {
   "attachments": {},
   "cell_type": "markdown",
   "metadata": {},
   "source": [
    "### Fit the data for linear regression\n",
    "\n",
    "- I first call in the linear regression model from the sklearn.linear_model library and save it in 2 variables (1 for each dataframe)\n",
    "- I then fit the data I would like to train my data with using the .fit function from that same library"
   ]
  },
  {
   "cell_type": "code",
   "execution_count": 50,
   "metadata": {},
   "outputs": [
    {
     "data": {
      "text/html": [
       "<style>#sk-container-id-2 {color: black;background-color: white;}#sk-container-id-2 pre{padding: 0;}#sk-container-id-2 div.sk-toggleable {background-color: white;}#sk-container-id-2 label.sk-toggleable__label {cursor: pointer;display: block;width: 100%;margin-bottom: 0;padding: 0.3em;box-sizing: border-box;text-align: center;}#sk-container-id-2 label.sk-toggleable__label-arrow:before {content: \"▸\";float: left;margin-right: 0.25em;color: #696969;}#sk-container-id-2 label.sk-toggleable__label-arrow:hover:before {color: black;}#sk-container-id-2 div.sk-estimator:hover label.sk-toggleable__label-arrow:before {color: black;}#sk-container-id-2 div.sk-toggleable__content {max-height: 0;max-width: 0;overflow: hidden;text-align: left;background-color: #f0f8ff;}#sk-container-id-2 div.sk-toggleable__content pre {margin: 0.2em;color: black;border-radius: 0.25em;background-color: #f0f8ff;}#sk-container-id-2 input.sk-toggleable__control:checked~div.sk-toggleable__content {max-height: 200px;max-width: 100%;overflow: auto;}#sk-container-id-2 input.sk-toggleable__control:checked~label.sk-toggleable__label-arrow:before {content: \"▾\";}#sk-container-id-2 div.sk-estimator input.sk-toggleable__control:checked~label.sk-toggleable__label {background-color: #d4ebff;}#sk-container-id-2 div.sk-label input.sk-toggleable__control:checked~label.sk-toggleable__label {background-color: #d4ebff;}#sk-container-id-2 input.sk-hidden--visually {border: 0;clip: rect(1px 1px 1px 1px);clip: rect(1px, 1px, 1px, 1px);height: 1px;margin: -1px;overflow: hidden;padding: 0;position: absolute;width: 1px;}#sk-container-id-2 div.sk-estimator {font-family: monospace;background-color: #f0f8ff;border: 1px dotted black;border-radius: 0.25em;box-sizing: border-box;margin-bottom: 0.5em;}#sk-container-id-2 div.sk-estimator:hover {background-color: #d4ebff;}#sk-container-id-2 div.sk-parallel-item::after {content: \"\";width: 100%;border-bottom: 1px solid gray;flex-grow: 1;}#sk-container-id-2 div.sk-label:hover label.sk-toggleable__label {background-color: #d4ebff;}#sk-container-id-2 div.sk-serial::before {content: \"\";position: absolute;border-left: 1px solid gray;box-sizing: border-box;top: 0;bottom: 0;left: 50%;z-index: 0;}#sk-container-id-2 div.sk-serial {display: flex;flex-direction: column;align-items: center;background-color: white;padding-right: 0.2em;padding-left: 0.2em;position: relative;}#sk-container-id-2 div.sk-item {position: relative;z-index: 1;}#sk-container-id-2 div.sk-parallel {display: flex;align-items: stretch;justify-content: center;background-color: white;position: relative;}#sk-container-id-2 div.sk-item::before, #sk-container-id-2 div.sk-parallel-item::before {content: \"\";position: absolute;border-left: 1px solid gray;box-sizing: border-box;top: 0;bottom: 0;left: 50%;z-index: -1;}#sk-container-id-2 div.sk-parallel-item {display: flex;flex-direction: column;z-index: 1;position: relative;background-color: white;}#sk-container-id-2 div.sk-parallel-item:first-child::after {align-self: flex-end;width: 50%;}#sk-container-id-2 div.sk-parallel-item:last-child::after {align-self: flex-start;width: 50%;}#sk-container-id-2 div.sk-parallel-item:only-child::after {width: 0;}#sk-container-id-2 div.sk-dashed-wrapped {border: 1px dashed gray;margin: 0 0.4em 0.5em 0.4em;box-sizing: border-box;padding-bottom: 0.4em;background-color: white;}#sk-container-id-2 div.sk-label label {font-family: monospace;font-weight: bold;display: inline-block;line-height: 1.2em;}#sk-container-id-2 div.sk-label-container {text-align: center;}#sk-container-id-2 div.sk-container {/* jupyter's `normalize.less` sets `[hidden] { display: none; }` but bootstrap.min.css set `[hidden] { display: none !important; }` so we also need the `!important` here to be able to override the default hidden behavior on the sphinx rendered scikit-learn.org. See: https://github.com/scikit-learn/scikit-learn/issues/21755 */display: inline-block !important;position: relative;}#sk-container-id-2 div.sk-text-repr-fallback {display: none;}</style><div id=\"sk-container-id-2\" class=\"sk-top-container\"><div class=\"sk-text-repr-fallback\"><pre>LinearRegression()</pre><b>In a Jupyter environment, please rerun this cell to show the HTML representation or trust the notebook. <br />On GitHub, the HTML representation is unable to render, please try loading this page with nbviewer.org.</b></div><div class=\"sk-container\" hidden><div class=\"sk-item\"><div class=\"sk-estimator sk-toggleable\"><input class=\"sk-toggleable__control sk-hidden--visually\" id=\"sk-estimator-id-2\" type=\"checkbox\" checked><label for=\"sk-estimator-id-2\" class=\"sk-toggleable__label sk-toggleable__label-arrow\">LinearRegression</label><div class=\"sk-toggleable__content\"><pre>LinearRegression()</pre></div></div></div></div></div>"
      ],
      "text/plain": [
       "LinearRegression()"
      ]
     },
     "execution_count": 50,
     "metadata": {},
     "output_type": "execute_result"
    }
   ],
   "source": [
    "# apply linear regression\n",
    "lr = LinearRegression()\n",
    "lr2 = LinearRegression()\n",
    "\n",
    "lr.fit(x_train, y_train)\n",
    "lr2.fit(x2_train, y2_train)"
   ]
  },
  {
   "attachments": {},
   "cell_type": "markdown",
   "metadata": {},
   "source": [
    "### Doublecheck"
   ]
  },
  {
   "cell_type": "code",
   "execution_count": 51,
   "metadata": {},
   "outputs": [
    {
     "data": {
      "text/plain": [
       "1.3821003632326807"
      ]
     },
     "metadata": {},
     "output_type": "display_data"
    },
    {
     "data": {
      "text/plain": [
       "1.0995027005735238"
      ]
     },
     "metadata": {},
     "output_type": "display_data"
    }
   ],
   "source": [
    "# check the intercept\n",
    "c = lr.intercept_\n",
    "c2 = lr2.intercept_\n",
    "display(c)\n",
    "display(c2)"
   ]
  },
  {
   "cell_type": "code",
   "execution_count": 52,
   "metadata": {},
   "outputs": [
    {
     "data": {
      "text/plain": [
       "array([ 1.00294272,  0.80750582, -0.2666997 , -0.22378814, -0.07197199,\n",
       "       -0.07507703])"
      ]
     },
     "metadata": {},
     "output_type": "display_data"
    },
    {
     "data": {
      "text/plain": [
       "array([ 1.00325566,  0.79653911, -0.26134334, -0.22338515, -0.07275067,\n",
       "       -0.06499291])"
      ]
     },
     "metadata": {},
     "output_type": "display_data"
    }
   ],
   "source": [
    "# check the coef.\n",
    "m = lr.coef_\n",
    "m2 = lr2.coef_\n",
    "\n",
    "display(m)\n",
    "display(m2)"
   ]
  },
  {
   "attachments": {},
   "cell_type": "markdown",
   "metadata": {},
   "source": [
    "### First prediction!\n",
    "\n",
    "- Now it's time to make the model's first prediction. I do this on the same data it trained on so I can compare and check the accuracy of the data.\n",
    "- To make a predicion I use the .predict function from the sklearn.linear_model library, I save this function in a variable so I can use this later."
   ]
  },
  {
   "cell_type": "code",
   "execution_count": 53,
   "metadata": {},
   "outputs": [
    {
     "data": {
      "text/plain": [
       "array([72.20045027, 74.62135672, 67.52337722, ..., 73.5797182 ,\n",
       "       76.07048003, 87.36705426])"
      ]
     },
     "metadata": {},
     "output_type": "display_data"
    },
    {
     "data": {
      "text/plain": [
       "array([86.74034441, 89.44635469, 98.38890611, ..., 73.42846654,\n",
       "       85.27901677, 64.23622732])"
      ]
     },
     "metadata": {},
     "output_type": "display_data"
    }
   ],
   "source": [
    "# train the models\n",
    "y_pred_train = lr.predict(x_train)\n",
    "y2_pred_train = lr2.predict(x2_train)\n",
    "\n",
    "display(y_pred_train)\n",
    "display(y2_pred_train)\n",
    "\n"
   ]
  },
  {
   "attachments": {},
   "cell_type": "markdown",
   "metadata": {},
   "source": [
    "### Plotting the result to check\n",
    "\n",
    "- This lets me see how the predicted result versus the actual real data and how close they are to eachother."
   ]
  },
  {
   "cell_type": "code",
   "execution_count": 54,
   "metadata": {},
   "outputs": [
    {
     "data": {
      "text/plain": [
       "<function matplotlib.pyplot.show(close=None, block=None)>"
      ]
     },
     "execution_count": 54,
     "metadata": {},
     "output_type": "execute_result"
    },
    {
     "data": {
      "image/png": "[encoded data removed]",
      "text/plain": [
       "<Figure size 640x480 with 1 Axes>"
      ]
     },
     "metadata": {},
     "output_type": "display_data"
    }
   ],
   "source": [
    "# plot the result\n",
    "plt.scatter(y_train, y_pred_train)\n",
    "plt.xlabel('Actual lifespan')\n",
    "plt.ylabel('Predicted lifespan')\n",
    "plt.show"
   ]
  },
  {
   "cell_type": "code",
   "execution_count": 55,
   "metadata": {},
   "outputs": [
    {
     "data": {
      "text/plain": [
       "<function matplotlib.pyplot.show(close=None, block=None)>"
      ]
     },
     "execution_count": 55,
     "metadata": {},
     "output_type": "execute_result"
    },
    {
     "data": {
      "image/png": "[encoded data removed]",
      "text/plain": [
       "<Figure size 640x480 with 1 Axes>"
      ]
     },
     "metadata": {},
     "output_type": "display_data"
    }
   ],
   "source": [
    "# Now with the second model\n",
    "plt.scatter(y2_train, y2_pred_train)\n",
    "plt.xlabel('Actual lifespan')\n",
    "plt.ylabel('Predicted lifespan')\n",
    "plt.show"
   ]
  },
  {
   "attachments": {},
   "cell_type": "markdown",
   "metadata": {},
   "source": [
    "### Score both results\n",
    "\n",
    "- To score the results I use the r2_score function from the sklearn.metrics library"
   ]
  },
  {
   "cell_type": "code",
   "execution_count": 56,
   "metadata": {},
   "outputs": [
    {
     "data": {
      "text/plain": [
       "0.981089622174547"
      ]
     },
     "metadata": {},
     "output_type": "display_data"
    },
    {
     "data": {
      "text/plain": [
       "0.9798438961460364"
      ]
     },
     "metadata": {},
     "output_type": "display_data"
    }
   ],
   "source": [
    "# score the result\n",
    "display(r2_score(y_train, y_pred_train))\n",
    "display(r2_score(y2_train, y2_pred_train))"
   ]
  },
  {
   "attachments": {},
   "cell_type": "markdown",
   "metadata": {},
   "source": [
    "### Now lets make the model predict something with data it hasn't seen yet!\n",
    "\n",
    "- For this use the .predict function again but now I use the testing data I created earlier."
   ]
  },
  {
   "cell_type": "code",
   "execution_count": 57,
   "metadata": {},
   "outputs": [
    {
     "data": {
      "text/plain": [
       "array([74.99084677, 78.22560652, 84.73412979, ..., 65.87234222,\n",
       "       79.2230896 , 75.76730693])"
      ]
     },
     "metadata": {},
     "output_type": "display_data"
    },
    {
     "data": {
      "text/plain": [
       "array([77.1269527 , 78.50021794, 93.76688864, ..., 63.71799457,\n",
       "       79.2280516 , 89.28129617])"
      ]
     },
     "metadata": {},
     "output_type": "display_data"
    }
   ],
   "source": [
    "# test the data\n",
    "y_pred_test = lr.predict(x_test)\n",
    "y2_pred_test = lr2.predict(x2_test)\n",
    "\n",
    "display(y_pred_test)\n",
    "display(y2_pred_test)"
   ]
  },
  {
   "attachments": {},
   "cell_type": "markdown",
   "metadata": {},
   "source": [
    "### Plot the test results."
   ]
  },
  {
   "cell_type": "code",
   "execution_count": 58,
   "metadata": {},
   "outputs": [
    {
     "data": {
      "text/plain": [
       "<function matplotlib.pyplot.show(close=None, block=None)>"
      ]
     },
     "execution_count": 58,
     "metadata": {},
     "output_type": "execute_result"
    },
    {
     "data": {
      "image/png": "[encoded data removed]",
      "text/plain": [
       "<Figure size 640x480 with 1 Axes>"
      ]
     },
     "metadata": {},
     "output_type": "display_data"
    }
   ],
   "source": [
    "# plot the result\n",
    "plt.scatter(y_test, y_pred_test)\n",
    "plt.xlabel('Actual lifespan')\n",
    "plt.ylabel('Predicted lifespan')\n",
    "plt.show"
   ]
  },
  {
   "cell_type": "code",
   "execution_count": 59,
   "metadata": {},
   "outputs": [
    {
     "data": {
      "text/plain": [
       "<function matplotlib.pyplot.show(close=None, block=None)>"
      ]
     },
     "execution_count": 59,
     "metadata": {},
     "output_type": "execute_result"
    },
    {
     "data": {
      "image/png": "[encoded data removed]",
      "text/plain": [
       "<Figure size 640x480 with 1 Axes>"
      ]
     },
     "metadata": {},
     "output_type": "display_data"
    }
   ],
   "source": [
    "plt.scatter(y2_test, y2_pred_test)\n",
    "plt.xlabel('Actual lifespan')\n",
    "plt.ylabel('Predicted lifespan')\n",
    "plt.show"
   ]
  },
  {
   "attachments": {},
   "cell_type": "markdown",
   "metadata": {},
   "source": [
    "Here i notice how little difference there is between both models, for now I think my second model (lr2) is a little cleaner and looks most promising.\n",
    "\n",
    "### Score the test results"
   ]
  },
  {
   "cell_type": "code",
   "execution_count": 60,
   "metadata": {},
   "outputs": [
    {
     "data": {
      "text/plain": [
       "0.9786494264285226"
      ]
     },
     "metadata": {},
     "output_type": "display_data"
    },
    {
     "data": {
      "text/plain": [
       "0.9791095367737477"
      ]
     },
     "metadata": {},
     "output_type": "display_data"
    }
   ],
   "source": [
    "# score the result\n",
    "display(r2_score(y_test, y_pred_test))\n",
    "display(r2_score(y2_test, y2_pred_test))"
   ]
  },
  {
   "attachments": {},
   "cell_type": "markdown",
   "metadata": {},
   "source": [
    "Interesting to see is that my iqr-model (lr2) scores higher in testing than it does in training. Since I want the prediction to be as high as possible with data it hasn't trained on I will use the lr2 model as it scores the highest and with my testing data.\n",
    "\n",
    "### Testing the model with new data that I made up\n",
    "- To make it easier for myself I will change my model lr2 to lr.\n",
    "- To give my model a new dataframe I will create a dictionairy and use pandas to transform it to a dataframe."
   ]
  },
  {
   "cell_type": "code",
   "execution_count": 61,
   "metadata": {},
   "outputs": [
    {
     "data": {
      "text/plain": [
       "array([84.47044586])"
      ]
     },
     "execution_count": 61,
     "metadata": {},
     "output_type": "execute_result"
    }
   ],
   "source": [
    "lr = lr2\n",
    "\n",
    "# genetic = 80\n",
    "# exercise = 6\n",
    "# smoking = 0\n",
    "# alcohol = 1\n",
    "# sugar = 2\n",
    "# bmi = 20\n",
    "\n",
    "# Creating new data as dictionairy\n",
    "new_info = {'genetic': 80, 'exercise': 6, 'smoking': 0, 'alcohol': 1, 'sugar': 2, 'bmi': 20}\n",
    "\n",
    "# Transform to dataframe\n",
    "new_df = pd.DataFrame(data=new_info,index=[0])\n",
    "\n",
    "# Predict!\n",
    "lr.predict(new_df)"
   ]
  },
  {
   "attachments": {},
   "cell_type": "markdown",
   "metadata": {},
   "source": [
    "### Save my model using the library pickle.\n",
    "- I want to be able to use my model in my program, to do this I use the .dump function from the pickle library to dump it into a pickle file (basicly saving it)."
   ]
  },
  {
   "cell_type": "code",
   "execution_count": 64,
   "metadata": {},
   "outputs": [],
   "source": [
    "# to use the model I just trained in my prototype I will save it with pickle\n",
    "Ppath = '../pickle/'\n",
    "with open(f'{Ppath}lifespan_model.pkl', 'wb') as f:\n",
    "    pickle.dump(lr, f)"
   ]
  },
  {
   "attachments": {},
   "cell_type": "markdown",
   "metadata": {},
   "source": [
    "### Close connection to database\n",
    "\n",
    "- Here I wasn't sure if I had to leave the connection open till the last second but I figured it couldn't hurt to leave it open as long as it's closed in the end."
   ]
  },
  {
   "cell_type": "code",
   "execution_count": 63,
   "metadata": {},
   "outputs": [],
   "source": [
    "# close Connection\n",
    "con.close()"
   ]
  }
 ],
 "metadata": {
  "kernelspec": {
   "display_name": "Python 3",
   "language": "python",
   "name": "python3"
  },
  "language_info": {
   "codemirror_mode": {
    "name": "ipython",
    "version": 3
   },
   "file_extension": ".py",
   "mimetype": "text/x-python",
   "name": "python",
   "nbconvert_exporter": "python",
   "pygments_lexer": "ipython3",
   "version": "3.10.10"
  },
  "orig_nbformat": 4
 },
 "nbformat": 4,
 "nbformat_minor": 2
}
