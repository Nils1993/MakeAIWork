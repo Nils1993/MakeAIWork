{
 "cells": [
  {
   "cell_type": "code",
   "execution_count": null,
   "metadata": {},
   "outputs": [],
   "source": [
    "print('test')"
   ]
  }
 ],
 "metadata": {
  "kernelspec": {
   "display_name": "Python 3",
   "language": "python",
   "name": "python3"
  },
  "language_info": {
   "name": "python",
   "version": "3.10.10"
  },
  "orig_nbformat": 4,
  "vscode": {
   "interpreter": {
    "hash": "d64f8eb76cdb792b16b0693398fd9779fca06798e48a305377d79c73a35cf092"
   }
  }
 },
 "nbformat": 4,
 "nbformat_minor": 2
}
